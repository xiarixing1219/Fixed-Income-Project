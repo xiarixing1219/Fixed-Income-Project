{
 "cells": [
  {
   "cell_type": "markdown",
   "metadata": {},
   "source": [
    "## Part IV Decompounded Options"
   ]
  },
  {
   "cell_type": "code",
   "execution_count": 1,
   "metadata": {},
   "outputs": [],
   "source": [
    "import pandas as pd\n",
    "import numpy as np\n",
    "import matplotlib.pyplot as plt\n",
    "from scipy.stats import norm\n",
    "from scipy import interpolate\n",
    "from math import log, sqrt, exp\n",
    "from scipy import integrate"
   ]
  },
  {
   "cell_type": "markdown",
   "metadata": {},
   "source": [
    "### Read dataframe"
   ]
  },
  {
   "cell_type": "code",
   "execution_count": 2,
   "metadata": {},
   "outputs": [],
   "source": [
    "data_FS = pd.read_csv('df_ForwardSwap.csv', header = 0, index_col = 0)  \n",
    "data_DF = pd.read_csv('df_comb.csv', header = 0, index_col = 0)  \n",
    "data_SABR = pd.read_csv('df_SABRImpVol.csv', header = 0, index_col = 0)\n",
    "data_SABR = data_SABR.rename(columns={'α': 'Alpha','ρ':'Rho','ν':'Nu'})"
   ]
  },
  {
   "cell_type": "markdown",
   "metadata": {},
   "source": [
    "### define models"
   ]
  },
  {
   "cell_type": "code",
   "execution_count": 3,
   "metadata": {},
   "outputs": [],
   "source": [
    "def Black76Lognormal(F, K, r, sigma, T, opt):\n",
    "    d1 = (log(F/K)+(sigma*sigma/2)*T)/(sigma*sqrt(T))\n",
    "    d2 = d1-sigma*sqrt(T)\n",
    "    if opt == 'Call':\n",
    "        return F*exp(-r*T)*norm.cdf(d1) - K*exp(-r*T)*norm.cdf(d2)\n",
    "    elif opt == 'Put':\n",
    "        return K*exp(-r*T)*norm.cdf(-d2) - F*exp(-r*T)*norm.cdf(-d1)\n",
    "\n",
    "def SABR(F, K, T, alpha, beta, rho, nu):\n",
    "    X = K\n",
    "    # if K is at-the-money-forward\n",
    "    if abs(F - K) < 1e-12:\n",
    "        numer1 = (((1 - beta)**2)/24)*alpha*alpha/(F**(2 - 2*beta))\n",
    "        numer2 = 0.25*rho*beta*nu*alpha/(F**(1 - beta))\n",
    "        numer3 = ((2 - 3*rho*rho)/24)*nu*nu\n",
    "        VolAtm = alpha*(1 + (numer1 + numer2 + numer3)*T)/(F**(1-beta))\n",
    "        sabrsigma = VolAtm\n",
    "    else:\n",
    "        z = (nu/alpha)*((F*X)**(0.5*(1-beta)))*log(F/X)\n",
    "        zhi = log((((1 - 2*rho*z + z*z)**0.5) + z - rho)/(1 - rho))\n",
    "        numer1 = (((1 - beta)**2)/24)*((alpha*alpha)/((F*X)**(1 - beta)))\n",
    "        numer2 = 0.25*rho*beta*nu*alpha/((F*X)**((1 - beta)/2))\n",
    "        numer3 = ((2 - 3*rho*rho)/24)*nu*nu\n",
    "        numer = alpha*(1 + (numer1 + numer2 + numer3)*T)*z\n",
    "        denom1 = ((1 - beta)**2/24)*(log(F/X))**2\n",
    "        denom2 = (((1 - beta)**4)/1920)*((log(F/X))**4)\n",
    "        denom = ((F*X)**((1 - beta)/2))*(1 + denom1 + denom2)*zhi\n",
    "        sabrsigma = numer/denom\n",
    "\n",
    "    return sabrsigma"
   ]
  },
  {
   "cell_type": "markdown",
   "metadata": {},
   "source": [
    "### define IRRs"
   ]
  },
  {
   "cell_type": "markdown",
   "metadata": {},
   "source": [
    "$IRR  (K) = \\sum_{i = 1}^{N * m} \\frac{1}{m} *({1 + \\frac{K}{m}})^{-i}\\ \\ \\ \\ \\    (delta = \\frac{1}{m})$"
   ]
  },
  {
   "cell_type": "markdown",
   "metadata": {},
   "source": [
    "$IRR' (K) = \\sum_{i = 1}^{N * m} (-i)*(\\frac{1}{m})^2 *({1 + \\frac{K}{m}})^{-i-1}\\ \\ \\ \\ \\    (delta = \\frac{1}{m})$"
   ]
  },
  {
   "cell_type": "markdown",
   "metadata": {},
   "source": [
    "$IRR'' (K) = \\sum_{i = 1}^{N * m} (-i)*(-i-1) *(\\frac{1}{m})^3 *({1 + \\frac{K}{m}})^{-i-2}\\ \\ \\ \\ \\    (delta = \\frac{1}{m})$"
   ]
  },
  {
   "cell_type": "code",
   "execution_count": 4,
   "metadata": {},
   "outputs": [],
   "source": [
    "def IRR(K, Tenor, Delta):\n",
    "    total = 0\n",
    "    for i in np.arange(1, Tenor/Delta +1):\n",
    "        total += Delta*(1 + K* Delta)**(-i)\n",
    "    return total\n",
    "\n",
    "def IRRf(K, Tenor, Delta):  \n",
    "    total = 0\n",
    "    for i in np.arange(1, Tenor/Delta +1):\n",
    "        total += (-i)*(Delta**2)*(1 + K* Delta)**(-i-1)\n",
    "    return total\n",
    "\n",
    "def IRRff(K, Tenor, Delta):\n",
    "    total = 0\n",
    "    for i in np.arange(1, Tenor/Delta +1):\n",
    "        total += (-i)*(-i-1)*(Delta**3)*(1 + K* Delta)**(-i-2)\n",
    "    return total"
   ]
  },
  {
   "cell_type": "markdown",
   "metadata": {},
   "source": [
    "### Question 1   \n",
    "\n",
    "#### Use static replication to value the PV of payoff: $CMS\\ 10y^{1/4} - 0.04^{1/2}$ at time T = 5y"
   ]
  },
  {
   "cell_type": "markdown",
   "metadata": {},
   "source": [
    "$g(F) = F^{\\frac{1}{4}} - 0.2 \\ \\ \\ \\ \\ \\ g'(F) = \\frac{1}{4}F^{-\\frac{3}{4}} \\ \\ \\ \\ \\ \\ \\ g''(F) = -\\frac{3}{16}F^{-\\frac{7}{4}}$"
   ]
  },
  {
   "cell_type": "markdown",
   "metadata": {},
   "source": [
    "$ h(K) = \\frac{g(K)}{IRR(K)}$ <br><br>\n",
    "$ h'(K) = \\frac{IRR(K)g'(K) - g(K)IRR'(K)}{IRR(K)^2}$<br><br>\n",
    "$ h''(K) = \\frac{IRR(K)g''(K) - IRR''(K)g(K) - 2 * IRR'(K)g'(K)}{IRR(K)^2} +\\frac{2*IRR'(K)^2g(K)}{IRR(K)^3}$"
   ]
  },
  {
   "cell_type": "code",
   "execution_count": 5,
   "metadata": {},
   "outputs": [],
   "source": [
    "#define payoff functions g(x) and h(x)\n",
    "def g(K):\n",
    "    return K**(1/4) - 0.2\n",
    "\n",
    "def gf(K):\n",
    "    return (1/4)*(K)**(-3/4)\n",
    "\n",
    "def gff(K):\n",
    "    return (-3/16)*(K)**(-7/4)\n",
    "\n",
    "def h(K,Tenor,Delta):\n",
    "    return g(K)/IRR(K, Tenor, Delta)\n",
    "\n",
    "def hf(K, Tenor, Delta):\n",
    "    top = IRR(K, Tenor, Delta)*gf(K)-g(K)*IRRf(K, Tenor, Delta)\n",
    "    bottom = IRR(K, Tenor, Delta)**2\n",
    "    return top / bottom\n",
    "\n",
    "def hff(K, Tenor, Delta):\n",
    "    top = IRR(K,Tenor,Delta)*gff(K)-IRRff(K,Tenor,Delta)*g(K)-2*IRRf(K,Tenor,Delta)*gf(K)\n",
    "    bottom = IRR(K,Tenor,Delta)**2\n",
    "    term3 = 2*IRRf(K,Tenor,Delta)**2*g(K)/IRR(K,Tenor,Delta)**3\n",
    "    return top/bottom + term3"
   ]
  },
  {
   "cell_type": "markdown",
   "metadata": {},
   "source": [
    "$ V_0  = D(0,T)g(F) + \\int_0^F h''(K)V^{rec}(K)dK + \\int_F^\\infty h''(K)V^{pay}(K)dK $"
   ]
  },
  {
   "cell_type": "code",
   "execution_count": 6,
   "metadata": {},
   "outputs": [],
   "source": [
    "F = data_FS.loc[9, 'Swap_Rate']   # this is 5y x 10y forward swap rate\n",
    "D = data_DF.loc[9, 'OIS_DF']      # this is OIS discount factor D(0, 5y)\n",
    "\n",
    "alpha = data_SABR.loc[9, 'Alpha'] # this is alpha parameter for 5y x 10y forward swap\n",
    "beta = 0.9                        # this is pre-determined beta at 0.9\n",
    "rho = data_SABR.loc[9, 'Rho']     # this is rho parameter for 5y x 10y forward swap\n",
    "nu = data_SABR.loc[9,  'Nu']      # this is nu parameter for 5y x 10y forward swap\n",
    "\n",
    "Tenor = 10\n",
    "Delta = 0.5\n",
    "T = 5\n",
    "\n",
    "V_rec = integrate.quad(lambda x: hff(x,Tenor,Delta)*Black76Lognormal(F, x, 0, SABR(F, x, T, alpha, 0.9, rho, nu),T, \"Put\"),\n",
    "                                                    0,F)\n",
    "V_pay = integrate.quad(lambda x: hff(x,Tenor,Delta)*Black76Lognormal(F, x, 0, SABR(F, x, T, alpha, 0.9, rho, nu),T, \"Call\"),\n",
    "                                                    F,1000)\n",
    "                                                   \n",
    "PVoption = D * g(F) + V_rec[0] + V_pay[0]"
   ]
  },
  {
   "cell_type": "code",
   "execution_count": 7,
   "metadata": {},
   "outputs": [
    {
     "name": "stdout",
     "output_type": "stream",
     "text": [
      "PV is 0.24975332100232644\n"
     ]
    }
   ],
   "source": [
    "print(\"PV is\", PVoption)"
   ]
  },
  {
   "cell_type": "markdown",
   "metadata": {},
   "source": [
    "### Question 2"
   ]
  },
  {
   "cell_type": "markdown",
   "metadata": {},
   "source": [
    "#### Use static replication to value the PV of this payoff: $(CMS\\ 10y^{1/4} - 0.04^{1/2})^+$"
   ]
  },
  {
   "cell_type": "markdown",
   "metadata": {},
   "source": [
    "$F^\\frac{1}{4} > 0.2$<br>\n",
    "$F > 0.2^4$<br>\n",
    "$F > 0.0016 = L$"
   ]
  },
  {
   "cell_type": "markdown",
   "metadata": {},
   "source": [
    "$CMS\\ Caplet = h'(L)V^{pay}(L) + \\int^{\\infty}_Lh''(K)V^{pay}(K)dK$"
   ]
  },
  {
   "cell_type": "code",
   "execution_count": 8,
   "metadata": {
    "scrolled": true
   },
   "outputs": [
    {
     "data": {
      "text/plain": [
       "0.031198138039831624"
      ]
     },
     "execution_count": 8,
     "metadata": {},
     "output_type": "execute_result"
    }
   ],
   "source": [
    "Tenor = 10\n",
    "Delta = 0.5\n",
    "T = 5\n",
    "L = 0.2**4\n",
    "\n",
    "term1 = hf(L, Tenor, Delta)*Black76Lognormal(F, L, 0, SABR(F, L, T, alpha, 0.9, rho, nu),T,\"Call\")\n",
    "term2 = integrate.quad(lambda x: hff(x, Tenor,Delta)*Black76Lognormal(F, x, 0, SABR(F, x, T, alpha, 0.9, rho, nu),T,\"Call\"),\n",
    "                                                    L,1000)\n",
    "PV_caplet = term1+ term2[0]\n",
    "PV_caplet"
   ]
  },
  {
   "cell_type": "code",
   "execution_count": null,
   "metadata": {},
   "outputs": [],
   "source": []
  }
 ],
 "metadata": {
  "kernelspec": {
   "display_name": "Python 3",
   "language": "python",
   "name": "python3"
  },
  "language_info": {
   "codemirror_mode": {
    "name": "ipython",
    "version": 3
   },
   "file_extension": ".py",
   "mimetype": "text/x-python",
   "name": "python",
   "nbconvert_exporter": "python",
   "pygments_lexer": "ipython3",
   "version": "3.8.3"
  }
 },
 "nbformat": 4,
 "nbformat_minor": 4
}
